{
 "cells": [
  {
   "cell_type": "code",
   "execution_count": 2,
   "id": "cd27662b-de8a-410d-939e-73c84042b82c",
   "metadata": {
    "tags": []
   },
   "outputs": [],
   "source": [
    "import numpy as np\n",
    "import pandas as pd\n",
    "from tensorflow.keras.models import Sequential\n",
    "from tensorflow.keras.layers import Dense\n",
    "from sklearn.preprocessing import MinMaxScaler\n",
    "from sklearn.model_selection import train_test_split\n",
    "from sklearn.metrics import mean_squared_error\n",
    "import matplotlib.pyplot as plt"
   ]
  },
  {
   "cell_type": "markdown",
   "id": "577ee50b-0b7d-42cd-be02-6cd3b2835135",
   "metadata": {},
   "source": [
    "### Read Data from CSV File"
   ]
  },
  {
   "cell_type": "code",
   "execution_count": 3,
   "id": "4c63a0ea-3d17-414a-925e-d29a544b921a",
   "metadata": {
    "tags": []
   },
   "outputs": [],
   "source": [
    "data = pd.read_csv('Maybank.csv')"
   ]
  },
  {
   "cell_type": "markdown",
   "id": "18c365c5-8de5-416f-b9fb-30b9439523e0",
   "metadata": {},
   "source": [
    "### Data Descriptions"
   ]
  },
  {
   "cell_type": "code",
   "execution_count": 4,
   "id": "aa6b94a4-4e9b-471f-a4a8-a3ca217a915b",
   "metadata": {
    "tags": []
   },
   "outputs": [
    {
     "data": {
      "text/html": [
       "<div>\n",
       "<style scoped>\n",
       "    .dataframe tbody tr th:only-of-type {\n",
       "        vertical-align: middle;\n",
       "    }\n",
       "\n",
       "    .dataframe tbody tr th {\n",
       "        vertical-align: top;\n",
       "    }\n",
       "\n",
       "    .dataframe thead th {\n",
       "        text-align: right;\n",
       "    }\n",
       "</style>\n",
       "<table border=\"1\" class=\"dataframe\">\n",
       "  <thead>\n",
       "    <tr style=\"text-align: right;\">\n",
       "      <th></th>\n",
       "      <th>Date</th>\n",
       "      <th>Open</th>\n",
       "      <th>High</th>\n",
       "      <th>Low</th>\n",
       "      <th>Close</th>\n",
       "      <th>Adj Close</th>\n",
       "      <th>Volume</th>\n",
       "    </tr>\n",
       "  </thead>\n",
       "  <tbody>\n",
       "    <tr>\n",
       "      <th>0</th>\n",
       "      <td>2000-03-01</td>\n",
       "      <td>8.238324</td>\n",
       "      <td>8.286221</td>\n",
       "      <td>8.046735</td>\n",
       "      <td>8.046735</td>\n",
       "      <td>2.275965</td>\n",
       "      <td>54426939.0</td>\n",
       "    </tr>\n",
       "    <tr>\n",
       "      <th>1</th>\n",
       "      <td>2000-03-02</td>\n",
       "      <td>8.046735</td>\n",
       "      <td>8.046735</td>\n",
       "      <td>7.759352</td>\n",
       "      <td>7.759352</td>\n",
       "      <td>2.194681</td>\n",
       "      <td>55151407.0</td>\n",
       "    </tr>\n",
       "    <tr>\n",
       "      <th>2</th>\n",
       "      <td>2000-03-03</td>\n",
       "      <td>7.759352</td>\n",
       "      <td>7.759352</td>\n",
       "      <td>7.424071</td>\n",
       "      <td>7.567763</td>\n",
       "      <td>2.140491</td>\n",
       "      <td>37436397.0</td>\n",
       "    </tr>\n",
       "    <tr>\n",
       "      <th>3</th>\n",
       "      <td>2000-03-06</td>\n",
       "      <td>7.663557</td>\n",
       "      <td>7.855146</td>\n",
       "      <td>7.424071</td>\n",
       "      <td>7.424071</td>\n",
       "      <td>2.099849</td>\n",
       "      <td>14591656.0</td>\n",
       "    </tr>\n",
       "    <tr>\n",
       "      <th>4</th>\n",
       "      <td>2000-03-07</td>\n",
       "      <td>7.424071</td>\n",
       "      <td>7.663557</td>\n",
       "      <td>7.424071</td>\n",
       "      <td>7.567763</td>\n",
       "      <td>2.140491</td>\n",
       "      <td>13562369.0</td>\n",
       "    </tr>\n",
       "  </tbody>\n",
       "</table>\n",
       "</div>"
      ],
      "text/plain": [
       "         Date      Open      High       Low     Close  Adj Close      Volume\n",
       "0  2000-03-01  8.238324  8.286221  8.046735  8.046735   2.275965  54426939.0\n",
       "1  2000-03-02  8.046735  8.046735  7.759352  7.759352   2.194681  55151407.0\n",
       "2  2000-03-03  7.759352  7.759352  7.424071  7.567763   2.140491  37436397.0\n",
       "3  2000-03-06  7.663557  7.855146  7.424071  7.424071   2.099849  14591656.0\n",
       "4  2000-03-07  7.424071  7.663557  7.424071  7.567763   2.140491  13562369.0"
      ]
     },
     "execution_count": 4,
     "metadata": {},
     "output_type": "execute_result"
    }
   ],
   "source": [
    "data.head()"
   ]
  },
  {
   "cell_type": "code",
   "execution_count": 5,
   "id": "42758797-6bed-4828-9ce3-999c43182991",
   "metadata": {
    "tags": []
   },
   "outputs": [
    {
     "name": "stdout",
     "output_type": "stream",
     "text": [
      "<class 'pandas.core.frame.DataFrame'>\n",
      "RangeIndex: 5033 entries, 0 to 5032\n",
      "Data columns (total 7 columns):\n",
      " #   Column     Non-Null Count  Dtype  \n",
      "---  ------     --------------  -----  \n",
      " 0   Date       5033 non-null   object \n",
      " 1   Open       5032 non-null   float64\n",
      " 2   High       5032 non-null   float64\n",
      " 3   Low        5032 non-null   float64\n",
      " 4   Close      5032 non-null   float64\n",
      " 5   Adj Close  5032 non-null   float64\n",
      " 6   Volume     5032 non-null   float64\n",
      "dtypes: float64(6), object(1)\n",
      "memory usage: 275.4+ KB\n"
     ]
    }
   ],
   "source": [
    "data.info()"
   ]
  },
  {
   "cell_type": "markdown",
   "id": "1394cbaa-3c9e-4a3d-9628-c2973579af4a",
   "metadata": {},
   "source": [
    "### Data Preprocessing"
   ]
  },
  {
   "cell_type": "code",
   "execution_count": 6,
   "id": "eccac119-4033-4d82-8741-8716186799cd",
   "metadata": {
    "tags": []
   },
   "outputs": [
    {
     "data": {
      "text/plain": [
       "datetime.datetime(2000, 3, 1, 0, 0)"
      ]
     },
     "execution_count": 6,
     "metadata": {},
     "output_type": "execute_result"
    }
   ],
   "source": [
    "import datetime\n",
    "\n",
    "def str_to_datetime(s):\n",
    "    split = s.split('-')\n",
    "    year,month,day = int(split[0]),int(split[1]),int(split[2])\n",
    "    return datetime.datetime(year=year,month=month,day=day)\n",
    "\n",
    "datetime_object = str_to_datetime('2000-03-01')\n",
    "datetime_object"
   ]
  },
  {
   "cell_type": "code",
   "execution_count": 7,
   "id": "6ca5aac6-830f-463e-82d5-e89ff17a5143",
   "metadata": {
    "tags": []
   },
   "outputs": [
    {
     "data": {
      "text/plain": [
       "0      2000-03-01\n",
       "1      2000-03-02\n",
       "2      2000-03-03\n",
       "3      2000-03-06\n",
       "4      2000-03-07\n",
       "          ...    \n",
       "5028   2020-03-05\n",
       "5029   2020-03-06\n",
       "5030   2020-03-09\n",
       "5031   2020-03-10\n",
       "5032   2020-03-11\n",
       "Name: Date, Length: 5033, dtype: datetime64[ns]"
      ]
     },
     "execution_count": 7,
     "metadata": {},
     "output_type": "execute_result"
    }
   ],
   "source": [
    "data['Date'] = data['Date'].apply(str_to_datetime)\n",
    "data['Date']"
   ]
  },
  {
   "cell_type": "code",
   "execution_count": 8,
   "id": "ca0a1972-5b99-42b6-9ce4-2507f187584d",
   "metadata": {
    "tags": []
   },
   "outputs": [],
   "source": [
    "data=data.dropna() ##Droping the data that contain NaN"
   ]
  },
  {
   "cell_type": "code",
   "execution_count": 9,
   "id": "abd20f7d-2992-4194-a1fa-3cee978907e0",
   "metadata": {
    "tags": []
   },
   "outputs": [],
   "source": [
    "# Preprocess and normalize the data\n",
    "scaler = MinMaxScaler()\n",
    "scaled_data = scaler.fit_transform(data[['Close']])\n",
    "\n",
    "# Define the look_back window and create input-output pairs\n",
    "look_back = 60\n",
    "X, y = [], []\n",
    "for i in range(len(scaled_data) - look_back):\n",
    "    X.append(scaled_data[i:i+look_back].flatten())\n",
    "    y.append(scaled_data[i+look_back][0])\n",
    "\n",
    "X = np.array(X)\n",
    "y = np.array(y)"
   ]
  },
  {
   "cell_type": "code",
   "execution_count": 10,
   "id": "1afefc89-eb0e-48c5-9df8-c8c1855c2925",
   "metadata": {
    "tags": []
   },
   "outputs": [],
   "source": [
    "# Split the data into training and testing sets\n",
    "x_train, x_test, y_train, y_test = train_test_split(X, y, test_size=0.2, shuffle=False)"
   ]
  },
  {
   "cell_type": "code",
   "execution_count": 11,
   "id": "01483696-6e1b-49e7-88af-0e3da8520f8f",
   "metadata": {
    "tags": []
   },
   "outputs": [
    {
     "name": "stdout",
     "output_type": "stream",
     "text": [
      "Epoch 1/100\n",
      "112/112 [==============================] - 2s 3ms/step - loss: 0.0321 - val_loss: 0.0013\n",
      "Epoch 2/100\n",
      "112/112 [==============================] - 0s 1ms/step - loss: 0.0020 - val_loss: 0.0011\n",
      "Epoch 3/100\n",
      "112/112 [==============================] - 0s 1ms/step - loss: 0.0016 - val_loss: 0.0013\n",
      "Epoch 4/100\n",
      "112/112 [==============================] - 0s 1ms/step - loss: 0.0013 - val_loss: 7.2072e-04\n",
      "Epoch 5/100\n",
      "112/112 [==============================] - 0s 1ms/step - loss: 0.0010 - val_loss: 6.6683e-04\n",
      "Epoch 6/100\n",
      "112/112 [==============================] - 0s 1ms/step - loss: 0.0010 - val_loss: 6.2199e-04\n",
      "Epoch 7/100\n",
      "112/112 [==============================] - 0s 2ms/step - loss: 8.3836e-04 - val_loss: 8.6418e-04\n",
      "Epoch 8/100\n",
      "112/112 [==============================] - 0s 1ms/step - loss: 8.8691e-04 - val_loss: 7.9129e-04\n",
      "Epoch 9/100\n",
      "112/112 [==============================] - 0s 1ms/step - loss: 8.2457e-04 - val_loss: 5.7800e-04\n",
      "Epoch 10/100\n",
      "112/112 [==============================] - 0s 1ms/step - loss: 7.3387e-04 - val_loss: 5.9079e-04\n",
      "Epoch 11/100\n",
      "112/112 [==============================] - 0s 1ms/step - loss: 6.5868e-04 - val_loss: 5.0011e-04\n",
      "Epoch 12/100\n",
      "112/112 [==============================] - 0s 1ms/step - loss: 6.4061e-04 - val_loss: 5.4439e-04\n",
      "Epoch 13/100\n",
      "112/112 [==============================] - 0s 1ms/step - loss: 7.0093e-04 - val_loss: 4.4787e-04\n",
      "Epoch 14/100\n",
      "112/112 [==============================] - 0s 1ms/step - loss: 5.6869e-04 - val_loss: 3.7733e-04\n",
      "Epoch 15/100\n",
      "112/112 [==============================] - 0s 1ms/step - loss: 6.0843e-04 - val_loss: 6.8607e-04\n",
      "Epoch 16/100\n",
      "112/112 [==============================] - 0s 1ms/step - loss: 4.9521e-04 - val_loss: 3.7080e-04\n",
      "Epoch 17/100\n",
      "112/112 [==============================] - 0s 1ms/step - loss: 5.2945e-04 - val_loss: 3.6373e-04\n",
      "Epoch 18/100\n",
      "112/112 [==============================] - 0s 2ms/step - loss: 4.6683e-04 - val_loss: 5.6020e-04\n",
      "Epoch 19/100\n",
      "112/112 [==============================] - 0s 1ms/step - loss: 4.9589e-04 - val_loss: 4.9410e-04\n",
      "Epoch 20/100\n",
      "112/112 [==============================] - 0s 1ms/step - loss: 4.8978e-04 - val_loss: 4.4259e-04\n",
      "Epoch 21/100\n",
      "112/112 [==============================] - 0s 1ms/step - loss: 4.9684e-04 - val_loss: 8.6976e-04\n",
      "Epoch 22/100\n",
      "112/112 [==============================] - 0s 2ms/step - loss: 4.2936e-04 - val_loss: 4.0357e-04\n",
      "Epoch 23/100\n",
      "112/112 [==============================] - 0s 2ms/step - loss: 4.7702e-04 - val_loss: 6.9971e-04\n",
      "Epoch 24/100\n",
      "112/112 [==============================] - 0s 2ms/step - loss: 4.5008e-04 - val_loss: 3.3941e-04\n",
      "Epoch 25/100\n",
      "112/112 [==============================] - 0s 2ms/step - loss: 4.9797e-04 - val_loss: 4.6104e-04\n",
      "Epoch 26/100\n",
      "112/112 [==============================] - 0s 1ms/step - loss: 4.2658e-04 - val_loss: 7.3497e-04\n",
      "Epoch 27/100\n",
      "112/112 [==============================] - 0s 2ms/step - loss: 4.1101e-04 - val_loss: 2.8563e-04\n",
      "Epoch 28/100\n",
      "112/112 [==============================] - 0s 2ms/step - loss: 3.9606e-04 - val_loss: 2.9161e-04\n",
      "Epoch 29/100\n",
      "112/112 [==============================] - 0s 2ms/step - loss: 4.1021e-04 - val_loss: 3.3485e-04\n",
      "Epoch 30/100\n",
      "112/112 [==============================] - 0s 2ms/step - loss: 3.7791e-04 - val_loss: 3.7735e-04\n",
      "Epoch 31/100\n",
      "112/112 [==============================] - 0s 1ms/step - loss: 4.1178e-04 - val_loss: 2.7895e-04\n",
      "Epoch 32/100\n",
      "112/112 [==============================] - 0s 2ms/step - loss: 3.4267e-04 - val_loss: 2.8449e-04\n",
      "Epoch 33/100\n",
      "112/112 [==============================] - 0s 2ms/step - loss: 3.6374e-04 - val_loss: 2.5652e-04\n",
      "Epoch 34/100\n",
      "112/112 [==============================] - 0s 2ms/step - loss: 3.7799e-04 - val_loss: 3.2609e-04\n",
      "Epoch 35/100\n",
      "112/112 [==============================] - 0s 1ms/step - loss: 4.4887e-04 - val_loss: 3.1875e-04\n",
      "Epoch 36/100\n",
      "112/112 [==============================] - 0s 1ms/step - loss: 4.4169e-04 - val_loss: 2.5227e-04\n",
      "Epoch 37/100\n",
      "112/112 [==============================] - 0s 2ms/step - loss: 4.0551e-04 - val_loss: 3.3138e-04\n",
      "Epoch 38/100\n",
      "112/112 [==============================] - 0s 2ms/step - loss: 4.7518e-04 - val_loss: 2.6710e-04\n",
      "Epoch 39/100\n",
      "112/112 [==============================] - 0s 1ms/step - loss: 4.7302e-04 - val_loss: 2.8797e-04\n",
      "Epoch 40/100\n",
      "112/112 [==============================] - 0s 1ms/step - loss: 3.7308e-04 - val_loss: 3.1674e-04\n",
      "Epoch 41/100\n",
      "112/112 [==============================] - 0s 2ms/step - loss: 4.9187e-04 - val_loss: 3.1036e-04\n",
      "Epoch 42/100\n",
      "112/112 [==============================] - 0s 2ms/step - loss: 3.8121e-04 - val_loss: 8.2746e-04\n",
      "Epoch 43/100\n",
      "112/112 [==============================] - 0s 2ms/step - loss: 3.5830e-04 - val_loss: 0.0010\n",
      "Epoch 44/100\n",
      "112/112 [==============================] - 0s 2ms/step - loss: 3.6724e-04 - val_loss: 6.5110e-04\n",
      "Epoch 45/100\n",
      "112/112 [==============================] - 0s 2ms/step - loss: 4.1551e-04 - val_loss: 9.7339e-04\n",
      "Epoch 46/100\n",
      "112/112 [==============================] - 0s 1ms/step - loss: 3.3599e-04 - val_loss: 3.1455e-04\n",
      "Epoch 47/100\n",
      "112/112 [==============================] - 0s 2ms/step - loss: 4.0116e-04 - val_loss: 3.4352e-04\n",
      "Epoch 48/100\n",
      "112/112 [==============================] - 0s 1ms/step - loss: 3.1465e-04 - val_loss: 2.8491e-04\n",
      "Epoch 49/100\n",
      "112/112 [==============================] - 0s 1ms/step - loss: 3.0612e-04 - val_loss: 3.0917e-04\n",
      "Epoch 50/100\n",
      "112/112 [==============================] - 0s 1ms/step - loss: 3.0514e-04 - val_loss: 2.3685e-04\n",
      "Epoch 51/100\n",
      "112/112 [==============================] - 0s 1ms/step - loss: 2.9877e-04 - val_loss: 4.0264e-04\n",
      "Epoch 52/100\n",
      "112/112 [==============================] - 0s 1ms/step - loss: 4.1337e-04 - val_loss: 5.9615e-04\n",
      "Epoch 53/100\n",
      "112/112 [==============================] - 0s 2ms/step - loss: 3.0579e-04 - val_loss: 2.8103e-04\n",
      "Epoch 54/100\n",
      "112/112 [==============================] - 0s 2ms/step - loss: 4.1471e-04 - val_loss: 3.3578e-04\n",
      "Epoch 55/100\n",
      "112/112 [==============================] - 0s 1ms/step - loss: 3.4012e-04 - val_loss: 3.7776e-04\n",
      "Epoch 56/100\n",
      "112/112 [==============================] - 0s 2ms/step - loss: 3.6290e-04 - val_loss: 5.3346e-04\n",
      "Epoch 57/100\n",
      "112/112 [==============================] - 0s 1ms/step - loss: 3.3844e-04 - val_loss: 2.7185e-04\n",
      "Epoch 58/100\n",
      "112/112 [==============================] - 0s 2ms/step - loss: 3.5065e-04 - val_loss: 2.8796e-04\n",
      "Epoch 59/100\n",
      "112/112 [==============================] - 0s 1ms/step - loss: 3.9183e-04 - val_loss: 0.0012\n",
      "Epoch 60/100\n",
      "112/112 [==============================] - 0s 1ms/step - loss: 5.1620e-04 - val_loss: 3.1908e-04\n",
      "Epoch 61/100\n",
      "112/112 [==============================] - 0s 2ms/step - loss: 3.1151e-04 - val_loss: 2.3937e-04\n",
      "Epoch 62/100\n",
      "112/112 [==============================] - 0s 1ms/step - loss: 3.5989e-04 - val_loss: 6.2425e-04\n",
      "Epoch 63/100\n",
      "112/112 [==============================] - 0s 1ms/step - loss: 3.4053e-04 - val_loss: 2.2642e-04\n",
      "Epoch 64/100\n",
      "112/112 [==============================] - 0s 1ms/step - loss: 3.0917e-04 - val_loss: 2.5356e-04\n",
      "Epoch 65/100\n",
      "112/112 [==============================] - 0s 1ms/step - loss: 2.7052e-04 - val_loss: 2.3694e-04\n",
      "Epoch 66/100\n",
      "112/112 [==============================] - 0s 1ms/step - loss: 2.6863e-04 - val_loss: 2.6676e-04\n",
      "Epoch 67/100\n",
      "112/112 [==============================] - 0s 1ms/step - loss: 3.1989e-04 - val_loss: 6.2594e-04\n",
      "Epoch 68/100\n",
      "112/112 [==============================] - 0s 1ms/step - loss: 3.8632e-04 - val_loss: 2.5115e-04\n",
      "Epoch 69/100\n",
      "112/112 [==============================] - 0s 1ms/step - loss: 2.9241e-04 - val_loss: 2.2282e-04\n",
      "Epoch 70/100\n",
      "112/112 [==============================] - 0s 2ms/step - loss: 3.2687e-04 - val_loss: 2.2625e-04\n",
      "Epoch 71/100\n",
      "112/112 [==============================] - 0s 1ms/step - loss: 3.0299e-04 - val_loss: 2.8573e-04\n",
      "Epoch 72/100\n",
      "112/112 [==============================] - 0s 2ms/step - loss: 3.2405e-04 - val_loss: 3.8152e-04\n",
      "Epoch 73/100\n",
      "112/112 [==============================] - 0s 2ms/step - loss: 3.4954e-04 - val_loss: 7.2495e-04\n",
      "Epoch 74/100\n",
      "112/112 [==============================] - 0s 1ms/step - loss: 3.2478e-04 - val_loss: 2.9379e-04\n",
      "Epoch 75/100\n",
      "112/112 [==============================] - 0s 2ms/step - loss: 3.0214e-04 - val_loss: 2.2191e-04\n",
      "Epoch 76/100\n",
      "112/112 [==============================] - 0s 2ms/step - loss: 3.0344e-04 - val_loss: 4.8776e-04\n",
      "Epoch 77/100\n",
      "112/112 [==============================] - 0s 1ms/step - loss: 3.0033e-04 - val_loss: 3.0178e-04\n",
      "Epoch 78/100\n",
      "112/112 [==============================] - 0s 1ms/step - loss: 2.8395e-04 - val_loss: 4.4605e-04\n",
      "Epoch 79/100\n",
      "112/112 [==============================] - 0s 1ms/step - loss: 2.9972e-04 - val_loss: 6.3948e-04\n",
      "Epoch 80/100\n",
      "112/112 [==============================] - 0s 1ms/step - loss: 3.2959e-04 - val_loss: 2.5064e-04\n",
      "Epoch 81/100\n",
      "112/112 [==============================] - 0s 1ms/step - loss: 2.9751e-04 - val_loss: 3.1439e-04\n",
      "Epoch 82/100\n",
      "112/112 [==============================] - 0s 1ms/step - loss: 2.8365e-04 - val_loss: 2.1941e-04\n",
      "Epoch 83/100\n",
      "112/112 [==============================] - 0s 2ms/step - loss: 2.8100e-04 - val_loss: 1.9605e-04\n",
      "Epoch 84/100\n",
      "112/112 [==============================] - 0s 2ms/step - loss: 3.0190e-04 - val_loss: 2.3571e-04\n",
      "Epoch 85/100\n",
      "112/112 [==============================] - 0s 1ms/step - loss: 2.7959e-04 - val_loss: 2.6864e-04\n",
      "Epoch 86/100\n",
      "112/112 [==============================] - 0s 2ms/step - loss: 2.9664e-04 - val_loss: 3.0867e-04\n",
      "Epoch 87/100\n",
      "112/112 [==============================] - 0s 1ms/step - loss: 3.5932e-04 - val_loss: 3.3903e-04\n",
      "Epoch 88/100\n",
      "112/112 [==============================] - 0s 2ms/step - loss: 2.7232e-04 - val_loss: 2.0729e-04\n",
      "Epoch 89/100\n",
      "112/112 [==============================] - 0s 1ms/step - loss: 3.0005e-04 - val_loss: 1.9930e-04\n",
      "Epoch 90/100\n",
      "112/112 [==============================] - 0s 1ms/step - loss: 2.6947e-04 - val_loss: 2.3568e-04\n",
      "Epoch 91/100\n",
      "112/112 [==============================] - 0s 1ms/step - loss: 3.1965e-04 - val_loss: 3.2464e-04\n",
      "Epoch 92/100\n",
      "112/112 [==============================] - 0s 2ms/step - loss: 2.6696e-04 - val_loss: 2.3663e-04\n",
      "Epoch 93/100\n",
      "112/112 [==============================] - 0s 1ms/step - loss: 3.3103e-04 - val_loss: 2.0229e-04\n",
      "Epoch 94/100\n",
      "112/112 [==============================] - 0s 1ms/step - loss: 3.4135e-04 - val_loss: 2.3504e-04\n",
      "Epoch 95/100\n",
      "112/112 [==============================] - 0s 2ms/step - loss: 2.8957e-04 - val_loss: 2.4332e-04\n",
      "Epoch 96/100\n",
      "112/112 [==============================] - 0s 1ms/step - loss: 2.6230e-04 - val_loss: 1.9886e-04\n",
      "Epoch 97/100\n",
      "112/112 [==============================] - 0s 2ms/step - loss: 2.9802e-04 - val_loss: 3.6086e-04\n",
      "Epoch 98/100\n",
      "112/112 [==============================] - 0s 2ms/step - loss: 3.0561e-04 - val_loss: 2.1437e-04\n",
      "Epoch 99/100\n",
      "112/112 [==============================] - 0s 2ms/step - loss: 2.8920e-04 - val_loss: 2.3259e-04\n",
      "Epoch 100/100\n",
      "112/112 [==============================] - 0s 2ms/step - loss: 2.6975e-04 - val_loss: 2.3553e-04\n"
     ]
    }
   ],
   "source": [
    "from tensorflow.keras.layers import Activation\n",
    "\n",
    "model = Sequential([\n",
    "    Dense(units=64, activation='sigmoid', input_dim=look_back),\n",
    "    Dense(units=32, activation='tanh'),\n",
    "    Dense(units=32, activation='relu'),\n",
    "    Dense(units=1, activation='linear') \n",
    "])\n",
    "\n",
    "model.compile(optimizer='adam', loss='mean_squared_error')\n",
    "\n",
    "# Train the model\n",
    "history = model.fit(x_train, y_train, batch_size=32, epochs=100, validation_split=0.1)"
   ]
  },
  {
   "cell_type": "code",
   "execution_count": 12,
   "id": "d02969ac-5b77-4814-97a7-fc21eaf34e1e",
   "metadata": {
    "tags": []
   },
   "outputs": [
    {
     "name": "stdout",
     "output_type": "stream",
     "text": [
      "32/32 [==============================] - 0s 2ms/step\n",
      "Mean Squared Error: 0.0103\n"
     ]
    },
    {
     "data": {
      "image/png": "[encoded data removed]",
      "text/plain": [
       "<Figure size 1200x600 with 1 Axes>"
      ]
     },
     "metadata": {},
     "output_type": "display_data"
    }
   ],
   "source": [
    "# Make predictions\n",
    "predictions = model.predict(x_test)\n",
    "\n",
    "# Inverse transform the predictions and actual values to their original scales\n",
    "predictions = scaler.inverse_transform(predictions)\n",
    "y_test_original = scaler.inverse_transform(y_test.reshape(-1, 1))\n",
    "\n",
    "# Get the corresponding dates for the test set\n",
    "test_dates = data['Date'].iloc[-len(x_test):].values\n",
    "\n",
    "# Calculate Mean Squared Error\n",
    "mse = mean_squared_error(y_test_original, predictions)\n",
    "print(f\"Mean Squared Error: {mse:.4f}\")\n",
    "\n",
    "# Visualize the results\n",
    "plt.figure(figsize=(12, 6))\n",
    "plt.plot(test_dates, y_test_original, label='Actual')\n",
    "plt.plot(test_dates, predictions, label='Predicted')\n",
    "plt.title('Maybank Stock Price Prediction')\n",
    "plt.xlabel('Date')\n",
    "plt.ylabel('Stock Price')\n",
    "plt.xticks(rotation=45)\n",
    "plt.legend()\n",
    "plt.show()\n"
   ]
  },
  {
   "cell_type": "code",
   "execution_count": 13,
   "id": "05302649-7317-403a-964f-5b2ec3ed26a0",
   "metadata": {
    "tags": []
   },
   "outputs": [
    {
     "name": "stdout",
     "output_type": "stream",
     "text": [
      "Mean Squared Error (MSE): 0.0103\n",
      "Root Mean Squared Error (RMSE): 0.1014\n",
      "Mean Absolute Error (MAE): 0.0779\n",
      "R-squared (R2): 0.9809\n"
     ]
    }
   ],
   "source": [
    "from sklearn.metrics import mean_squared_error, mean_absolute_error, r2_score\n",
    "\n",
    "# Calculate Mean Squared Error (MSE)\n",
    "mse = mean_squared_error(y_test_original, predictions)\n",
    "print(f\"Mean Squared Error (MSE): {mse:.4f}\")\n",
    "# Calculate Root Mean Squared Error (RMSE)\n",
    "rmse = np.sqrt(mse)\n",
    "print(f\"Root Mean Squared Error (RMSE): {rmse:.4f}\")\n",
    "\n",
    "# Calculate Mean Absolute Error (MAE)\n",
    "mae = mean_absolute_error(y_test_original, predictions)\n",
    "print(f\"Mean Absolute Error (MAE): {mae:.4f}\")\n",
    "\n",
    "# Calculate R-squared (R2) - Coefficient of determination\n",
    "r2 = r2_score(y_test_original, predictions)\n",
    "print(f\"R-squared (R2): {r2:.4f}\")\n"
   ]
  }
 ],
 "metadata": {
  "kernelspec": {
   "display_name": "Python 3 (ipykernel)",
   "language": "python",
   "name": "python3"
  },
  "language_info": {
   "codemirror_mode": {
    "name": "ipython",
    "version": 3
   },
   "file_extension": ".py",
   "mimetype": "text/x-python",
   "name": "python",
   "nbconvert_exporter": "python",
   "pygments_lexer": "ipython3",
   "version": "3.11.4"
  }
 },
 "nbformat": 4,
 "nbformat_minor": 5
}
